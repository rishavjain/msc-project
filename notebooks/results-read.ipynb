{
 "cells": [
  {
   "cell_type": "code",
   "execution_count": 2,
   "metadata": {
    "collapsed": false
   },
   "outputs": [
    {
     "name": "stdout",
     "output_type": "stream",
     "text": [
      "Requirement already satisfied (use --upgrade to upgrade): tabulate in /home/cop15rj/.local/lib/python3.5/site-packages\n"
     ]
    },
    {
     "data": {
      "text/plain": [
       "0"
      ]
     },
     "execution_count": 2,
     "metadata": {},
     "output_type": "execute_result"
    }
   ],
   "source": [
    "import pip\n",
    "\n",
    "pip.main(['install','tabulate','--user'])"
   ]
  },
  {
   "cell_type": "code",
   "execution_count": 3,
   "metadata": {
    "collapsed": false
   },
   "outputs": [],
   "source": [
    "import os\n",
    "from tabulate import tabulate\n",
    "from pprint import pprint\n",
    "import glob"
   ]
  },
  {
   "cell_type": "code",
   "execution_count": 4,
   "metadata": {
    "collapsed": false
   },
   "outputs": [],
   "source": [
    "RESULTS_FOLDER = '/fastdata/cop15rj/results'\n",
    "SCORES_FOLDER = RESULTS_FOLDER + '/scores'\n",
    "MODELS_FOLDER = RESULTS_FOLDER + '/models'"
   ]
  },
  {
   "cell_type": "code",
   "execution_count": 4,
   "metadata": {
    "collapsed": false
   },
   "outputs": [
    {
     "data": {
      "text/plain": [
       "['t-1', 'models', 'scores']"
      ]
     },
     "execution_count": 4,
     "metadata": {},
     "output_type": "execute_result"
    }
   ],
   "source": [
    "os.listdir(RESULTS_FOLDER)"
   ]
  },
  {
   "cell_type": "code",
   "execution_count": 5,
   "metadata": {
    "collapsed": false
   },
   "outputs": [
    {
     "name": "stdout",
     "output_type": "stream",
     "text": [
      "context_window: 1\n",
      "+-------------+--------------+------------------+--------------+------------------+\n",
      "|   min count | vecs fsize   | contexts fsize   |   vecs vsize |   contexts vsize |\n",
      "|-------------+--------------+------------------+--------------+------------------|\n",
      "|           5 | 962.43 MB    | 5407.22 MB       |       210245 |          1181226 |\n",
      "|          10 | 598.21 MB    | 3398.17 MB       |       130680 |           742341 |\n",
      "|          20 | 387.63 MB    | 2177.77 MB       |        84680 |           475742 |\n",
      "|          50 | 222.40 MB    | 1205.25 MB       |        48585 |           263291 |\n",
      "|         100 | 147.56 MB    | 757.11 MB        |        32236 |           165394 |\n",
      "|         200 | 97.25 MB     | 459.43 MB        |        21245 |           100363 |\n",
      "|         300 | 75.65 MB     | 336.00 MB        |        16527 |            73401 |\n",
      "|         400 | 63.50 MB     | 265.56 MB        |        13871 |            58013 |\n",
      "|         500 | 55.18 MB     | 219.92 MB        |        12055 |            48043 |\n",
      "+-------------+--------------+------------------+--------------+------------------+\n",
      "\n",
      "context_window: 2\n",
      "+-------------+--------------+------------------+--------------+------------------+\n",
      "|   min count | vecs fsize   | contexts fsize   |   vecs vsize |   contexts vsize |\n",
      "|-------------+--------------+------------------+--------------+------------------|\n",
      "|           5 | 922.46 MB    | 13093.88 MB      |       201514 |          2860401 |\n",
      "|          10 | 576.71 MB    | 5627.17 MB       |       125985 |          1229275 |\n",
      "|          20 | 374.44 MB    | 2720.08 MB       |        81798 |           594210 |\n",
      "|          50 | 215.15 MB    | 1164.54 MB       |        47000 |           254397 |\n",
      "|         100 | 142.01 MB    | 642.00 MB        |        31023 |           140247 |\n",
      "|         200 | 92.50 MB     | 354.71 MB        |        20206 |            77487 |\n",
      "+-------------+--------------+------------------+--------------+------------------+\n",
      "\n",
      "context_window: 3\n",
      "+-------------+--------------+------------------+--------------+------------------+\n",
      "|   min count | vecs fsize   | contexts fsize   |   vecs vsize |   contexts vsize |\n",
      "|-------------+--------------+------------------+--------------+------------------|\n",
      "|           5 | 863.38 MB    | 7512.91 MB       |       188609 |          1641220 |\n",
      "|          10 | 544.82 MB    | 3437.20 MB       |       119018 |           750867 |\n",
      "|          20 | 354.95 MB    | 1821.38 MB       |        77539 |           397887 |\n",
      "|          50 | 203.75 MB    | 866.44 MB        |        44510 |           189277 |\n",
      "|         100 | 134.27 MB    | 501.99 MB        |        29331 |           109661 |\n",
      "|         200 | 87.01 MB     | 283.89 MB        |        19008 |            62017 |\n",
      "+-------------+--------------+------------------+--------------+------------------+\n",
      "\n",
      "context_window: 4\n",
      "+-------------+--------------+------------------+--------------+------------------+\n",
      "|   min count | vecs fsize   | contexts fsize   |   vecs vsize |   contexts vsize |\n",
      "|-------------+--------------+------------------+--------------+------------------|\n",
      "|           5 | 815.70 MB    | 6699.93 MB       |       178193 |          1463623 |\n",
      "|          10 | 516.53 MB    | 3134.91 MB       |       112838 |           684831 |\n",
      "|          20 | 339.37 MB    | 1688.53 MB       |        74137 |           368865 |\n",
      "|          50 | 196.52 MB    | 812.99 MB        |        42931 |           177601 |\n",
      "|         100 | 129.99 MB    | 472.29 MB        |        28396 |           103173 |\n",
      "|         200 | 84.82 MB     | 267.33 MB        |        18530 |            58400 |\n",
      "+-------------+--------------+------------------+--------------+------------------+\n",
      "\n",
      "context_window: 5\n",
      "+-------------+--------------+------------------+--------------+------------------+\n",
      "|   min count | vecs fsize   | contexts fsize   |   vecs vsize |   contexts vsize |\n",
      "|-------------+--------------+------------------+--------------+------------------|\n",
      "|           5 | 780.99 MB    | 6382.80 MB       |       170609 |          1394344 |\n",
      "|          10 | 496.94 MB    | 2986.02 MB       |       108559 |           652307 |\n",
      "|          20 | 327.58 MB    | 1613.50 MB       |        71561 |           352475 |\n",
      "|          50 | 192.11 MB    | 777.65 MB        |        41966 |           169881 |\n",
      "|         100 | 127.38 MB    | 450.83 MB        |        27826 |            98485 |\n",
      "|         200 | 83.37 MB     | 255.00 MB        |        18212 |            55706 |\n",
      "+-------------+--------------+------------------+--------------+------------------+\n",
      "\n"
     ]
    }
   ],
   "source": [
    "# list size of models\n",
    "\n",
    "for context_window in [1,2,3,4,5]:\n",
    "    path = MODELS_FOLDER + '/w'\n",
    "\n",
    "    path = os.path.join(path, \n",
    "                        str(context_window))\n",
    "\n",
    "    table = []\n",
    "\n",
    "    for min_count in [5, 10, 20, 50, 100, 200, 300, 400, 500]:\n",
    "        ipath = os.path.join(path, str(min_count))\n",
    "    #     print(ipath)\n",
    "\n",
    "        entry = [min_count, 0, 0, 0, 0]\n",
    "        \n",
    "        if not os.path.isdir(ipath):\n",
    "            continue\n",
    "\n",
    "        for file in os.listdir(ipath):\n",
    "            if 'vecs.npy' in file: index = 1\n",
    "            elif 'contexts.npy' in file: index = 2\n",
    "            else: continue\n",
    "            fsize = os.path.getsize(os.path.join(ipath, file))  / (1024**2)\n",
    "            entry[index] = '%3.2f MB' % (fsize)\n",
    "\n",
    "        for file in os.listdir(ipath):\n",
    "            if 'vecs.vocab' in file: index = 3\n",
    "            elif 'contexts.vocab' in file: index = 4\n",
    "            else: continue\n",
    "            vsize = sum(1 for l in open(os.path.join(ipath, file)))\n",
    "            entry[index] = vsize\n",
    "\n",
    "        table += [entry,]\n",
    "    print('context_window:',context_window)\n",
    "    print(tabulate(table, headers=['min count', 'vecs fsize', 'contexts fsize', 'vecs vsize', 'contexts vsize'],\n",
    "                  tablefmt='psql'))\n",
    "    print()"
   ]
  },
  {
   "cell_type": "code",
   "execution_count": 6,
   "metadata": {
    "collapsed": false
   },
   "outputs": [
    {
     "name": "stdout",
     "output_type": "stream",
     "text": [
      "  min count  vecs fsize    contexts fsize      vecs vsize    contexts vsize\n",
      "-----------  ------------  ----------------  ------------  ----------------\n",
      "          5  0             0                       211380           1181238\n",
      "         10  0             3398.17 MB              131249            742342\n",
      "         20  0             2177.77 MB               85039            475742\n",
      "         50  223.16 MB     1205.25 MB               48750            263291\n",
      "        100  148.20 MB     757.11 MB                32374            165394\n",
      "        200  160.36 MB     802.96 MB                35031            175410\n"
     ]
    }
   ],
   "source": [
    "path = MODELS_FOLDER + '/m/lst'\n",
    "\n",
    "table = []\n",
    "\n",
    "for min_count in [5, 10, 20, 50, 100, 200]:\n",
    "    ipath = os.path.join(path, 'm-'+str(min_count)+'-mult')\n",
    "#     print(ipath)\n",
    "    \n",
    "    entry = [min_count, 0, 0, 0, 0]\n",
    "\n",
    "    for file in os.listdir(ipath):\n",
    "        if 'vecs.npy' in file: index = 1\n",
    "        elif 'contexts.npy' in file: index = 2\n",
    "        else: continue\n",
    "        fsize = os.path.getsize(os.path.join(ipath, file))  / (1024**2)\n",
    "        entry[index] = '%3.2f MB' % (fsize)\n",
    "        \n",
    "    for file in os.listdir(ipath):\n",
    "        if 'wv' in file: index = 3\n",
    "        elif 'cv' in file: index = 4\n",
    "        else: continue\n",
    "        vsize = sum(1 for l in open(os.path.join(ipath, file), encoding='iso-8859-1'))\n",
    "        entry[index] = vsize\n",
    "    \n",
    "    table += [entry,]\n",
    "    \n",
    "print(tabulate(table, headers=['min count', 'vecs fsize', 'contexts fsize', 'vecs vsize', 'contexts vsize']))"
   ]
  },
  {
   "cell_type": "code",
   "execution_count": 7,
   "metadata": {
    "collapsed": false
   },
   "outputs": [
    {
     "name": "stdout",
     "output_type": "stream",
     "text": [
      "[[5, 0, 0, 211380, 1181238], [10, 0, '3398.17 MB', 131249, 742342], [20, 0, '2177.77 MB', 85039, 475742], [50, '223.16 MB', '1205.25 MB', 48750, 263291], [100, '148.20 MB', '757.11 MB', 32374, 165394], [200, '160.36 MB', '802.96 MB', 35031, 175410]]\n"
     ]
    }
   ],
   "source": [
    "print(table)"
   ]
  },
  {
   "cell_type": "code",
   "execution_count": 8,
   "metadata": {
    "collapsed": false
   },
   "outputs": [],
   "source": [
    "path = SCORES_FOLDER + '/w/' + '*/*/*/*/gap.out'\n",
    "\n",
    "context_window = 1\n",
    "\n",
    "scores = {}\n",
    "\n",
    "for file in glob.glob(path):\n",
    "    win_size, min_count, dataset, measure = file.replace(SCORES_FOLDER,'').split('/')[2:-1]\n",
    "    \n",
    "    score = [float(line.strip().split('\\t')[1])*100 for line in open(file) if 'MEAN' in line]\n",
    "    score = score[0] if len(score)==1 else -1\n",
    "    \n",
    "    scores[(win_size, min_count, dataset, measure)] = score\n",
    "\n",
    "# pprint(scores)"
   ]
  },
  {
   "cell_type": "code",
   "execution_count": 9,
   "metadata": {
    "collapsed": false
   },
   "outputs": [
    {
     "data": {
      "text/plain": [
       "[43.033062532532696]"
      ]
     },
     "execution_count": 9,
     "metadata": {},
     "output_type": "execute_result"
    }
   ],
   "source": [
    "file = '/fastdata/cop15rj/results/scores/w/1/5/lst/mult/gap.out'\n",
    "\n",
    "[float(line.strip().split('\\t')[1])*100 for line in open(file) if 'MEAN' in line]"
   ]
  },
  {
   "cell_type": "code",
   "execution_count": 10,
   "metadata": {
    "collapsed": false
   },
   "outputs": [
    {
     "name": "stdout",
     "output_type": "stream",
     "text": [
      "+---------+---------+--------------------+\n",
      "|         |     LST | CIC                |\n",
      "|---------+---------+--------------------|\n",
      "| Add     | 43.1752 | 40.093547718197925 |\n",
      "| BalAdd  | 42.2282 | 40.465608353086594 |\n",
      "| Mult    | 43.0331 | 38.703566722572916 |\n",
      "| BalMult | 42.971  | -                  |\n",
      "+---------+---------+--------------------+\n"
     ]
    }
   ],
   "source": [
    "table = [['', 'LST', 'CIC'], ]\n",
    "\n",
    "window_size = 1\n",
    "min_count = 5\n",
    "\n",
    "rnames = { 'add':'Add', 'avg':'BalAdd', 'mult':'Mult', 'geomean':'BalMult' }\n",
    "\n",
    "for measure in ['add','avg','mult','geomean']:\n",
    "    row = [rnames[measure], ]\n",
    "    for dataset in ['lst','cic']:\n",
    "        key = (str(win_size), str(min_count), dataset, measure)\n",
    "        \n",
    "        if key in scores:\n",
    "            row.append(scores[key])\n",
    "        else:\n",
    "            row.append('-')\n",
    "    table.append(row)\n",
    "    \n",
    "print(tabulate(table, headers=\"firstrow\", tablefmt='psql'))"
   ]
  },
  {
   "cell_type": "code",
   "execution_count": 54,
   "metadata": {
    "collapsed": false
   },
   "outputs": [
    {
     "name": "stdout",
     "output_type": "stream",
     "text": [
      "+---+-----+-------+-------+-------+-------+-------+-------+-------+-------+\n",
      "| 1 |   5 | 43.18 | 42.23 | 43.03 | 42.97 | 40.09 | 40.47 | 38.70 | 39.19 |\n",
      "| 1 |  10 | 43.67 | 42.61 | 43.69 | 43.35 | 39.60 | 40.04 | 38.32 | 38.84 |\n",
      "| 1 |  20 | 43.72 | 42.64 | 43.42 | 43.29 | 39.09 | 39.52 | 37.80 | 38.31 |\n",
      "| 1 |  50 | 43.16 | 41.99 | 43.27 | 42.71 | 37.67 | 38.11 | 36.53 | 37.06 |\n",
      "| 1 | 100 | 42.19 | 41.07 | 42.39 | 41.87 | 35.98 | 36.39 | 34.92 | 35.42 |\n",
      "| 1 | 200 | 41.25 | 40.29 | 41.29 | 40.87 | 33.46 | 33.85 | 32.49 | 32.97 |\n",
      "| 1 | 300 | 40.05 | 39.16 | 40.09 | 39.78 | 31.77 | 32.10 | 30.91 | 31.32 |\n",
      "| 1 | 400 | 39.09 | 38.31 | 39.38 | 39.06 | 30.51 | 30.87 | 29.71 | 30.14 |\n",
      "| 1 | 500 | 37.95 | 37.18 | 38.13 | 37.93 | 29.47 | 29.88 | 28.73 | 29.16 |\n",
      "| 2 |   5 | 40.84 | 40.64 | 40.15 | 40.95 | 39.29 | 39.66 | 38.41 | 38.83 |\n",
      "| 2 |  10 | 40.98 | 40.61 | 40.24 | 40.96 | 39.08 | 39.39 | 38.20 | 38.64 |\n",
      "| 2 |  20 | 41.28 | 40.79 | 40.58 | 41.19 | 38.45 | 38.85 | 37.64 | 38.12 |\n",
      "| 2 |  50 | 40.62 | 40.12 | 40.43 | 40.65 | 37.06 | 37.42 | 36.33 | 36.85 |\n",
      "| 2 | 100 | 40.12 | 39.47 | 39.97 | 40.08 | 35.26 | 35.69 | 34.62 | 35.10 |\n",
      "| 2 | 200 | 38.65 | 37.89 | 38.71 | 38.72 | 32.71 | 33.10 | 32.17 | 32.60 |\n",
      "| 2 | 300 | -     | -     | -     | -     | -     | -     | -     | -     |\n",
      "| 2 | 400 | -     | -     | -     | -     | -     | -     | -     | -     |\n",
      "| 2 | 500 | -     | -     | -     | -     | -     | -     | -     | -     |\n",
      "| 3 |   5 | 40.06 | 39.56 | 39.44 | 39.88 | 38.68 | 39.00 | 38.06 | 38.37 |\n",
      "| 3 |  10 | 40.62 | 40.00 | 40.22 | 40.64 | 38.41 | 38.72 | 37.74 | 38.11 |\n",
      "| 3 |  20 | 40.38 | 39.80 | 40.06 | 40.39 | 37.89 | 38.19 | 37.23 | 37.60 |\n",
      "| 3 |  50 | 39.74 | 39.09 | 39.53 | 39.66 | 36.39 | 36.65 | 35.76 | 36.22 |\n",
      "| 3 | 100 | 38.61 | 37.79 | 38.50 | 38.57 | 34.49 | 34.82 | 33.99 | 34.37 |\n",
      "| 3 | 200 | 37.24 | 36.56 | 37.42 | 37.49 | 31.78 | 32.11 | 31.37 | 31.76 |\n",
      "| 3 | 300 | -     | -     | -     | -     | -     | -     | -     | -     |\n",
      "| 3 | 400 | -     | -     | -     | -     | -     | -     | -     | -     |\n",
      "| 3 | 500 | -     | -     | -     | -     | -     | -     | -     | -     |\n",
      "| 4 |   5 | 39.93 | 39.29 | 39.31 | 39.53 | 38.55 | 38.82 | 37.96 | 38.27 |\n",
      "| 4 |  10 | 39.67 | 39.13 | 39.27 | 39.65 | 38.29 | 38.53 | 37.64 | 37.99 |\n",
      "| 4 |  20 | 39.58 | 39.00 | 39.05 | 39.33 | 37.77 | 38.05 | 37.14 | 37.52 |\n",
      "| 4 |  50 | 39.31 | 38.53 | 39.05 | 39.30 | 36.13 | 36.39 | 35.59 | 35.97 |\n",
      "| 4 | 100 | 38.38 | 37.73 | 38.51 | 38.44 | 34.24 | 34.54 | 33.79 | 34.16 |\n",
      "| 4 | 200 | 36.76 | 36.23 | 36.74 | 36.76 | 31.44 | 31.77 | 31.07 | 31.44 |\n",
      "| 4 | 300 | -     | -     | -     | -     | -     | -     | -     | -     |\n",
      "| 4 | 400 | -     | -     | -     | -     | -     | -     | -     | -     |\n",
      "| 4 | 500 | -     | -     | -     | -     | -     | -     | -     | -     |\n",
      "| 5 |   5 | 39.61 | 38.83 | 38.93 | 39.49 | 38.51 | 38.80 | 37.98 | 38.30 |\n",
      "| 5 |  10 | 39.69 | 38.90 | 38.96 | 39.24 | 38.12 | 38.41 | 37.60 | 37.96 |\n",
      "| 5 |  20 | 39.51 | 38.81 | 38.98 | 39.47 | 37.69 | 37.98 | 37.12 | 37.48 |\n",
      "| 5 |  50 | 39.48 | 38.82 | 38.96 | 39.28 | 36.05 | 36.33 | 35.56 | 35.94 |\n",
      "| 5 | 100 | 38.37 | 37.87 | 38.37 | 38.57 | 34.06 | 34.33 | 33.62 | 33.98 |\n",
      "| 5 | 200 | 36.73 | 36.20 | 36.73 | 36.81 | 31.48 | 31.78 | 31.08 | 31.40 |\n",
      "| 5 | 300 | -     | -     | -     | -     | -     | -     | -     | -     |\n",
      "| 5 | 400 | -     | -     | -     | -     | -     | -     | -     | -     |\n",
      "| 5 | 500 | -     | -     | -     | -     | -     | -     | -     | -     |\n",
      "+---+-----+-------+-------+-------+-------+-------+-------+-------+-------+\n"
     ]
    }
   ],
   "source": [
    "path = SCORES_FOLDER + '/w/' + '*/*/*/*/gap.out'\n",
    "\n",
    "scores = {}\n",
    "\n",
    "for file in glob.glob(path):\n",
    "    win_size, min_count, dataset, measure = file.replace(SCORES_FOLDER,'').split('/')[2:-1]\n",
    "    \n",
    "    score = [float(line.strip().split('\\t')[1])*100 for line in open(file) if 'MEAN' in line]\n",
    "    score = score[0] if len(score)==1 else -1\n",
    "    \n",
    "    scores[(win_size, min_count, dataset, measure)] = score\n",
    "\n",
    "table = []\n",
    "\n",
    "for win_size in [1,2,3,4,5]:\n",
    "    for min_count in [5, 10, 20, 50, 100, 200, 300, 400, 500]:\n",
    "        row = [str(win_size), str(min_count)]\n",
    "        for dataset in ['lst','cic']:\n",
    "            for measure in ['add','avg','mult','geomean']:\n",
    "                key = (str(win_size), str(min_count), dataset, measure)                \n",
    "                if key in scores:\n",
    "                    row.append('{:.2f}'.format(scores[key]))\n",
    "                else:\n",
    "                    row.append('-')\n",
    "        \n",
    "        table.append(row)\n",
    "    \n",
    "print(tabulate(table, tablefmt='psql'))"
   ]
  },
  {
   "cell_type": "code",
   "execution_count": 44,
   "metadata": {
    "collapsed": false
   },
   "outputs": [
    {
     "name": "stdout",
     "output_type": "stream",
     "text": [
      "\\begin{tabular}{rrrrr}\n",
      "\\hline\n",
      " 37.67 & 37.06 & 36.39 & 36.13 & 36.05 \\\\\n",
      " 38.11 & 37.42 & 36.65 & 36.39 & 36.33 \\\\\n",
      " 36.53 & 36.33 & 35.76 & 35.59 & 35.56 \\\\\n",
      " 37.06 & 36.85 & 36.22 & 35.97 & 35.94 \\\\\n",
      "\\hline\n",
      "\\end{tabular}\n"
     ]
    }
   ],
   "source": [
    "path = SCORES_FOLDER + '/w/' + '*/*/*/*/gap.out'\n",
    "\n",
    "scores = {}\n",
    "\n",
    "for file in glob.glob(path):\n",
    "    win_size, min_count, dataset, measure = file.replace(SCORES_FOLDER,'').split('/')[2:-1]\n",
    "    \n",
    "    score = [float(line.strip().split('\\t')[1])*100 for line in open(file) if 'MEAN' in line]\n",
    "    score = score[0] if len(score)==1 else -1\n",
    "    \n",
    "    scores[(win_size, min_count, dataset, measure)] = score\n",
    "\n",
    "table = []\n",
    "\n",
    "min_count = 50\n",
    "dataset = 'cic'\n",
    "\n",
    "for measure in ['add','avg','mult','geomean']:\n",
    "    row = []    \n",
    "    for win_size in [1,2,3,4,5]:    \n",
    "        key = (str(win_size), str(min_count), dataset, measure)                \n",
    "        if key in scores:\n",
    "            row.append('{:.2f}'.format(scores[key]))\n",
    "        else:\n",
    "            row.append('-')\n",
    "\n",
    "    table.append(row)\n",
    "    \n",
    "print(tabulate(table, tablefmt='latex'))"
   ]
  },
  {
   "cell_type": "code",
   "execution_count": 41,
   "metadata": {
    "collapsed": false
   },
   "outputs": [
    {
     "name": "stdout",
     "output_type": "stream",
     "text": [
      "\\begin{tabular}{rrrrr}\n",
      "\\hline\n",
      " 37.42 & 37.05 & 36.46 & 36.36 & 36.64 \\\\\n",
      " 37.29 & 37.08 & 36.35 & 36.09 & 36.13 \\\\\n",
      "\\hline\n",
      "\\end{tabular}\n"
     ]
    }
   ],
   "source": [
    "table = []\n",
    "\n",
    "path = SCORES_FOLDER + '/wn2/' + '*/*/*/*/gap.out'\n",
    "\n",
    "for file in glob.glob(path):\n",
    "    win_size, min_count, dataset, measure = file.replace(SCORES_FOLDER,'').split('/')[2:-1]\n",
    "    \n",
    "    score = [float(line.strip().split('\\t')[1])*100 for line in open(file) if 'MEAN' in line]\n",
    "    score = score[0] if len(score)==1 else -1\n",
    "    \n",
    "#     print((win_size, min_count, dataset, measure), score)\n",
    "    scores[(win_size, min_count, dataset, measure)] = score\n",
    "\n",
    "\n",
    "# for measure in ['mult','geomean','add','avg']:\n",
    "#     row = [measure, ]\n",
    "#     for dataset in ['lst','cic']:        \n",
    "#         key = (str(1), str(50), dataset, measure)                \n",
    "#         if key in scores:\n",
    "#             row.append('{:.2f}'.format(scores[key]))\n",
    "#         else:\n",
    "#             row.append('-')            \n",
    "#     table.append(row)\n",
    "\n",
    "for dataset in ['lst','cic']:\n",
    "    row = []\n",
    "    for win in [1, 2, 3, 4, 5]:\n",
    "        key = (str(win), str(50), dataset, 'none')                \n",
    "        if key in scores:\n",
    "            row.append('{:.2f}'.format(scores[key]))\n",
    "        else:\n",
    "            row.append('-')            \n",
    "    table.append(row)\n",
    "\n",
    "print(tabulate(table, tablefmt='latex'))"
   ]
  },
  {
   "cell_type": "code",
   "execution_count": 17,
   "metadata": {
    "collapsed": false
   },
   "outputs": [
    {
     "name": "stdout",
     "output_type": "stream",
     "text": [
      "+---+-----+--------+--------+--------+--------+--------+--------+--------+--------+\n",
      "| 1 |   5 | -1.000 | -      | -1.000 | -      | -      | -      | -      | -      |\n",
      "| 1 |  10 | 42.436 | 40.984 | 43.691 | 43.355 | -      | -      | -      | -      |\n",
      "| 1 |  20 | 42.312 | 40.879 | 43.425 | 43.292 | -      | -      | -      | -      |\n",
      "| 1 |  50 | 41.642 | -      | 43.268 | -      | -1.000 | -      | -1.000 | -      |\n",
      "| 1 | 100 | 40.902 | 39.797 | 42.389 | 41.862 | -1.000 | -      | -1.000 | -      |\n",
      "| 1 | 200 | 39.698 | 38.697 | 41.291 | 40.867 | -1.000 | -      | -1.000 | -      |\n",
      "| 2 |   5 | -1.000 | -      | -1.000 | -      | -      | -      | -      | -      |\n",
      "| 2 |  10 | 40.970 | 39.717 | 40.443 | 40.662 | -1.000 | -1.000 | -1.000 | -1.000 |\n",
      "| 2 |  20 | 40.996 | 39.552 | 40.587 | 41.150 | -1.000 | -1.000 | -1.000 | -1.000 |\n",
      "| 2 |  50 | 40.498 | -      | 40.613 | -      | -1.000 | -      | -1.000 | -      |\n",
      "| 2 | 100 | 39.847 | 38.170 | 39.913 | 40.344 | -1.000 | -1.000 | -1.000 | -1.000 |\n",
      "| 2 | 200 | -1.000 | -1.000 | -1.000 | -1.000 | -1.000 | -1.000 | -1.000 | -1.000 |\n",
      "| 3 |   5 | -      | -      | -      | -      | -      | -      | -      | -      |\n",
      "| 3 |  10 | 40.402 | 39.028 | 40.514 | 40.769 | -1.000 | -1.000 | -1.000 | -1.000 |\n",
      "| 3 |  20 | 40.283 | 38.769 | 40.092 | 40.618 | -1.000 | -1.000 | -1.000 | -1.000 |\n",
      "| 3 |  50 | 39.600 | -      | 39.368 | -      | -1.000 | -      | -1.000 | -      |\n",
      "| 3 | 100 | 38.604 | 37.036 | 38.425 | 38.765 | -1.000 | -1.000 | -1.000 | -1.000 |\n",
      "| 3 | 200 | -1.000 | -1.000 | -1.000 | -1.000 | -1.000 | -1.000 | -1.000 | -1.000 |\n",
      "| 4 |   5 | -1.000 | -      | -1.000 | -      | -      | -      | -      | -      |\n",
      "| 4 |  10 | 39.420 | 38.406 | 39.262 | 39.797 | -1.000 | -1.000 | -1.000 | -1.000 |\n",
      "| 4 |  20 | 39.429 | 38.228 | 39.091 | 39.592 | -1.000 | -1.000 | -1.000 | -1.000 |\n",
      "| 4 |  50 | 39.201 | -      | 38.959 | -      | -1.000 | -      | -1.000 | -      |\n",
      "| 4 | 100 | 38.248 | 36.744 | 38.167 | 38.642 | -1.000 | -1.000 | -1.000 | -1.000 |\n",
      "| 4 | 200 | -1.000 | -1.000 | -1.000 | -1.000 | -1.000 | -1.000 | -1.000 | -1.000 |\n",
      "| 5 |   5 | -      | -      | -1.000 | -      | -      | -      | -      | -      |\n",
      "| 5 |  10 | 39.321 | 38.018 | 39.004 | 39.336 | -1.000 | -1.000 | -1.000 | -1.000 |\n",
      "| 5 |  20 | 39.417 | 38.147 | 38.852 | 39.613 | -1.000 | -1.000 | -1.000 | -1.000 |\n",
      "| 5 |  50 | 39.360 | -      | 38.642 | -      | -1.000 | -      | -1.000 | -      |\n",
      "| 5 | 100 | 38.204 | 36.724 | 37.647 | 38.368 | -1.000 | -1.000 | -1.000 | -1.000 |\n",
      "| 5 | 200 | -1.000 | -1.000 | -1.000 | -1.000 | -1.000 | -1.000 | -1.000 | -1.000 |\n",
      "+---+-----+--------+--------+--------+--------+--------+--------+--------+--------+\n"
     ]
    }
   ],
   "source": [
    "path = SCORES_FOLDER + '/wn/' + '*/*/*/*/gap.out'\n",
    "\n",
    "context_window = 1\n",
    "\n",
    "scores = {}\n",
    "\n",
    "for file in glob.glob(path):\n",
    "    win_size, min_count, dataset, measure = file.replace(SCORES_FOLDER,'').split('/')[2:-1]\n",
    "    \n",
    "    score = [float(line.strip().split('\\t')[1])*100 for line in open(file) if 'MEAN' in line]\n",
    "    score = score[0] if len(score)==1 else -1\n",
    "    \n",
    "    scores[(win_size, min_count, dataset, measure)] = score\n",
    "\n",
    "table = []\n",
    "\n",
    "\n",
    "for win_size in [1,2,3,4,5]:\n",
    "    for min_count in [5, 10, 20, 50, 100, 200]:\n",
    "        row = [str(win_size), str(min_count)]\n",
    "        for dataset in ['lst','cic']:\n",
    "            for measure in ['add','baladd','mult','balmult']:\n",
    "                key = (str(win_size), str(min_count), dataset, measure)                \n",
    "                if key in scores:\n",
    "                    row.append('{:.3f}'.format(scores[key]))\n",
    "                else:\n",
    "                    row.append('-')\n",
    "        \n",
    "        table.append(row)\n",
    "    \n",
    "print(tabulate(table, tablefmt='psql'))"
   ]
  },
  {
   "cell_type": "code",
   "execution_count": 19,
   "metadata": {
    "collapsed": false
   },
   "outputs": [
    {
     "name": "stdout",
     "output_type": "stream",
     "text": [
      "\\begin{tabular}{rrrrrrr}\n",
      "\\hline\n",
      " 41.49 & 41.99 & 42.59 & 42.38 & 42.51 & 42.52 & 42.51 \\\\\n",
      " 41.39 & 41.79 & 42.02 & 41.8  & 42.05 & 41.97 & 41.89 \\\\\n",
      " 41.86 & 42.19 & 42.53 & 42.37 & 42.54 & 42.49 & 42.41 \\\\\n",
      " 41.19 & 41.4  & 41.44 & 41.25 & 41.39 & 41.3  & 41.21 \\\\\n",
      "\\hline\n",
      "\\end{tabular}\n"
     ]
    }
   ],
   "source": [
    "path = SCORES_FOLDER + '/d/' + '*/*/gap.out'\n",
    "\n",
    "context_window = 1\n",
    "\n",
    "scores = {}\n",
    "\n",
    "for file in glob.glob(path):\n",
    "#     print(file)\n",
    "    dataset = file.replace(SCORES_FOLDER,'').split('/')[2]\n",
    "    dim = file.replace(SCORES_FOLDER,'').split('/')[3].split('-')[1]\n",
    "    measure = file.replace(SCORES_FOLDER,'').split('/')[3].split('-')[-1]\n",
    "#     print((dataset, dim, measure))\n",
    "    \n",
    "    score = [float(line.strip().split('\\t')[1])*100 for line in open(file) if 'MEAN' in line]\n",
    "    score = score[0] if len(score)==1 else -1\n",
    "    \n",
    "    scores[(dataset, dim, measure)] = score\n",
    "\n",
    "table = []\n",
    "\n",
    "\n",
    "for measure in ['mult', 'geomean', 'add', 'avg',]:\n",
    "    row = []\n",
    "    for dim in [50, 100, 200, 400, 600, 800, 1000]:\n",
    "        key = ('lst', str(dim), measure)                \n",
    "        if key in scores:\n",
    "            row.append('{:.2f}'.format(scores[key]))\n",
    "        else:\n",
    "            row.append('-')\n",
    "        \n",
    "    table.append(row)\n",
    "    \n",
    "print(tabulate(table, tablefmt='latex'))"
   ]
  },
  {
   "cell_type": "code",
   "execution_count": 25,
   "metadata": {
    "collapsed": false
   },
   "outputs": [
    {
     "name": "stdout",
     "output_type": "stream",
     "text": [
      "\\begin{tabular}{rrrrrr}\n",
      "\\hline\n",
      " 40.09 & 39.6  & 39.09 & 37.67 & 35.98 & 33.46 \\\\\n",
      " 40.47 & 40.04 & 39.52 & 38.11 & 36.39 & 33.85 \\\\\n",
      " 38.7  & 38.32 & 37.8  & 36.53 & 34.92 & 32.49 \\\\\n",
      " 39.19 & 38.84 & 38.31 & 37.06 & 35.42 & 32.97 \\\\\n",
      "\\hline\n",
      "\\end{tabular}\n"
     ]
    }
   ],
   "source": [
    "table = []\n",
    "\n",
    "for measure in ['add','avg','mult','geomean']:\n",
    "    row = []\n",
    "    for min_count in [5, 10, 20, 50, 100, 200]:\n",
    "        key = (str(1), str(min_count), 'cic', measure)                \n",
    "        if key in scores:\n",
    "            row.append('{:.2f}'.format(scores[key]))\n",
    "        else:\n",
    "            row.append('-')\n",
    "        \n",
    "    table.append(row)\n",
    "    \n",
    "print(tabulate(table, tablefmt='latex'))"
   ]
  },
  {
   "cell_type": "code",
   "execution_count": 28,
   "metadata": {
    "collapsed": false
   },
   "outputs": [
    {
     "name": "stdout",
     "output_type": "stream",
     "text": [
      "\\begin{tabular}{rrrrr}\n",
      "\\hline\n",
      "     5 &    10 &    15 &   20 &    25 \\\\\n",
      "\\hline\n",
      " 34.5  & 34.82 & -1    & 34.8 & -1    \\\\\n",
      " -1    & 35.2  & 35.3  & 35.4 & 35.5  \\\\\n",
      " 35.42 & -1    & 35.94 & 36   & 36.05 \\\\\n",
      " 35.99 & -1    & 36.37 & -1   & 36.5  \\\\\n",
      "\\hline\n",
      "\\end{tabular}\n"
     ]
    }
   ],
   "source": [
    "path = SCORES_FOLDER + '/n/' + '*/*/gap.out'\n",
    "\n",
    "context_window = 1\n",
    "\n",
    "scores = {}\n",
    "\n",
    "for file in glob.glob(path):\n",
    "#     print(file)\n",
    "    dataset = file.replace(SCORES_FOLDER,'').split('/')[2]\n",
    "    dim = file.replace(SCORES_FOLDER,'').split('/')[3].split('-')[1]\n",
    "    measure = file.replace(SCORES_FOLDER,'').split('/')[3].split('-')[-1]\n",
    "#     print((dataset, dim, measure))\n",
    "    \n",
    "    score = [float(line.strip().split('\\t')[1])*100 for line in open(file) if 'MEAN' in line]\n",
    "    score = score[0] if len(score)==1 else -1\n",
    "    \n",
    "    scores[(dataset, dim, measure)] = score\n",
    "\n",
    "table = []\n",
    "\n",
    "\n",
    "for measure in ['mult', 'geomean', 'add', 'avg',]:\n",
    "    row = []\n",
    "    for dim in [5, 10, 15, 20, 25]:\n",
    "        key = ('cc', str(dim), measure)                \n",
    "        if key in scores:\n",
    "            row.append('{:.2f}'.format(scores[key]))\n",
    "        else:\n",
    "            row.append('-')\n",
    "        \n",
    "    table.append(row)\n",
    "    \n",
    "print(tabulate(table, tablefmt='latex', headers=[5, 10, 15, 20, 25]))"
   ]
  },
  {
   "cell_type": "code",
   "execution_count": 53,
   "metadata": {
    "collapsed": false
   },
   "outputs": [
    {
     "name": "stdout",
     "output_type": "stream",
     "text": [
      "\\begin{tabular}{rrrrr}\n",
      "\\hline\n",
      " 34.82 & 34.45 & 34.25 & 33.99 & 34.09 \\\\\n",
      " 34.95 & 34.43 & 34.38 & 34.07 & 34.09 \\\\\n",
      " 35.7  & 35.43 & 34.58 & 34.38 & 34.24 \\\\\n",
      "\\hline\n",
      "\\end{tabular}\n"
     ]
    }
   ],
   "source": [
    "path = SCORES_FOLDER + '/w/' + '*/*/*/*/*/gap.out'\n",
    "\n",
    "scores = {}\n",
    "\n",
    "for file in glob.glob(path):\n",
    "    win_size, min_count, dataset, measure = file.replace(SCORES_FOLDER,'').split('/')[2:-2]\n",
    "    \n",
    "    score = [float(line.strip().split('\\t')[1])*100 for line in open(file) if 'MEAN' in line]\n",
    "    score = score[0] if len(score)==1 else -1\n",
    "    \n",
    "    scores[(win_size, min_count, dataset, measure)] = score\n",
    "\n",
    "path = SCORES_FOLDER + '/wn2/' + '*/*/*/*/gap.out'\n",
    "\n",
    "for file in glob.glob(path):\n",
    "    win_size, min_count, dataset, measure = file.replace(SCORES_FOLDER,'').split('/')[2:-1]\n",
    "    \n",
    "    score = [float(line.strip().split('\\t')[1])*100 for line in open(file) if 'MEAN' in line]\n",
    "    score = score[0] if len(score)==1 else -1\n",
    "    \n",
    "    scores[(win_size, min_count, dataset, measure)] = score\n",
    "\n",
    "\n",
    "# pprint(scores)\n",
    "    \n",
    "table = []\n",
    "dataset = 'cic'\n",
    "\n",
    "for measure in ['s-add','s-mult']:\n",
    "    row = []    \n",
    "    for win_size in [1,2,3,4,5]:    \n",
    "        key = (str(win_size), str(50), dataset, measure)                \n",
    "        if key in scores:\n",
    "            row.append('{:.2f}'.format(scores[key]))\n",
    "        else:\n",
    "            row.append('-')\n",
    "\n",
    "    table.append(row)\n",
    "    \n",
    "row = []    \n",
    "for win_size in [1,2,3,4,5]:    \n",
    "    key = (str(win_size), str(100), dataset, 'none')                \n",
    "    if key in scores:\n",
    "        row.append('{:.2f}'.format(scores[key]))\n",
    "    else:\n",
    "        row.append('-')\n",
    "\n",
    "table.append(row)\n",
    "            \n",
    "print(tabulate(table, tablefmt='latex'))"
   ]
  }
 ],
 "metadata": {
  "kernelspec": {
   "display_name": "Python 3",
   "language": "python",
   "name": "python3"
  },
  "language_info": {
   "codemirror_mode": {
    "name": "ipython",
    "version": 3.0
   },
   "file_extension": ".py",
   "mimetype": "text/x-python",
   "name": "python",
   "nbconvert_exporter": "python",
   "pygments_lexer": "ipython3",
   "version": "3.5.0"
  }
 },
 "nbformat": 4,
 "nbformat_minor": 0
}