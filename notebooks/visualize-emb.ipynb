{
 "cells": [
  {
   "cell_type": "code",
   "execution_count": 8,
   "metadata": {
    "collapsed": true
   },
   "outputs": [],
   "source": [
    "import numpy as np\n",
    "import heapq\n",
    "\n",
    "class Embeddings:\n",
    "    def __init__(self, path):\n",
    "        self.V = self.normalize(np.load(path + '.npy'))\n",
    "        self.vocab = open(path + '.vocab').read().strip().split()\n",
    "        self.w2i = dict([(w, i) for i, w in enumerate(self.vocab)])\n",
    "\n",
    "    @staticmethod\n",
    "    def normalize(vecs):\n",
    "        normalizers = np.sqrt(np.sum(vecs * vecs, axis=1))\n",
    "        normalizers[normalizers == 0] = 1\n",
    "        return vecs / normalizers[:, np.newaxis]\n",
    "\n",
    "    def wvec(self, w):\n",
    "        \"\"\" get vector for word w \"\"\"\n",
    "        if w in self.w2i:\n",
    "            return self.V[self.w2i[w], :]\n",
    "        else:\n",
    "            return None\n",
    "    \n",
    "    def cos(self, v, w=None):\n",
    "        if w is None:\n",
    "            return np.dot(self.V, v)\n",
    "        else:                \n",
    "            return np.dot(self.wvec(w), v)\n",
    "\n",
    "    def pcos(self, v, w=None):\n",
    "        if w is None:\n",
    "            return (self.cos(v) + 1) / 2\n",
    "        else:\n",
    "            return (self.cos(v, w) + 1) / 2\n",
    "    \n",
    "    def top_scores(self, scores, n=10):\n",
    "        if n <= 0:\n",
    "            n = len(scores)\n",
    "        return heapq.nlargest(n, zip(self.vocab, scores), key=lambda x: x[1])\n",
    "    \n",
    "    def closest(self, v, n=10):\n",
    "#         print('v:', type(v))\n",
    "        scores = self.cos(v)\n",
    "        \n",
    "        if n is None:\n",
    "            n = len(scores)\n",
    "            \n",
    "        return heapq.nlargest(n, zip(self.vocab, scores), key=lambda x: x[1])\n",
    "\n",
    "    @staticmethod\n",
    "    def pcos_mat(V1, V2):\n",
    "        return (np.diag(np.dot(V1, V2.T)) + 1) / 2"
   ]
  },
  {
   "cell_type": "code",
   "execution_count": 9,
   "metadata": {
    "collapsed": false
   },
   "outputs": [],
   "source": [
    "wemb = Embeddings('/fastdata/cop15rj/results/models/w/1/50/vecs')\n",
    "cemb = Embeddings('/fastdata/cop15rj/results/models/w/1/50/contexts')"
   ]
  },
  {
   "cell_type": "code",
   "execution_count": null,
   "metadata": {
    "collapsed": true
   },
   "outputs": [],
   "source": [
    "contexts = cemb.closest(wemb.wvec('apple'), None)\n",
    "\n",
    "rels = set()\n",
    "for context in contexts:\n",
    "    if 'fruit' in context[0]:\n",
    "#         print('1', context)\n",
    "        rels.add(context[0].split('_')[0])\n",
    "    if 'company' in context[0]:\n",
    "#         print('2', context)\n",
    "        rels.add(context[0].split('_')[0])\n",
    "    \n",
    "print(rels)\n",
    "print(contexts)"
   ]
  },
  {
   "cell_type": "code",
   "execution_count": 71,
   "metadata": {
    "collapsed": true
   },
   "outputs": [
    {
     "data": {
      "text/plain": [
       "[('amodI_company', 0.99999999999999933),\n",
       " ('amodI_companies', 0.83271854367315123),\n",
       " ('amodI_firm', 0.81314601647327578),\n",
       " ('amodI_corporation', 0.78451170396271008),\n",
       " ('amodI_manufacturer', 0.77748370590083649),\n",
       " ('amodI_retailer', 0.76840621957541122),\n",
       " ('amodI_provider', 0.76694246705783509),\n",
       " ('amodI_organisation', 0.76640209190246888),\n",
       " ('amodI_agency', 0.75348888053083152),\n",
       " ('amodI_industry', 0.75161080384322099)]"
      ]
     },
     "execution_count": 71,
     "metadata": {},
     "output_type": "execute_result"
    }
   ],
   "source": [
    "cemb.closest(cemb.wvec('amodI_company'))"
   ]
  },
  {
   "cell_type": "code",
   "execution_count": 225,
   "metadata": {
    "collapsed": true
   },
   "outputs": [
    {
     "data": {
      "text/plain": [
       "[('borrows', 0.94989252564961246),\n",
       " ('reserving', 0.94949155875329683),\n",
       " ('surpassing', 0.94739372255254217),\n",
       " ('seizes', 0.94444144132014984),\n",
       " ('ditching', 0.94424863966418637),\n",
       " ('embodying', 0.94418858085974366),\n",
       " ('straddling', 0.94390985305761077),\n",
       " ('shatters', 0.941675475330364),\n",
       " ('brandishing', 0.94164060415154238),\n",
       " ('clutching', 0.9412669935709953)]"
      ]
     },
     "execution_count": 225,
     "metadata": {},
     "output_type": "execute_result"
    }
   ],
   "source": [
    "wemb.closest(cemb.wvec('dobj_banana'))"
   ]
  },
  {
   "cell_type": "code",
   "execution_count": 127,
   "metadata": {
    "collapsed": true
   },
   "outputs": [
    {
     "data": {
      "text/plain": [
       "[('winds', 0.12714918838362921),\n",
       " ('reputation', 0.11749581997919625),\n",
       " ('opposition', 0.10226918195736882),\n",
       " ('ties', 0.094144591305693442),\n",
       " ('relationships', 0.086262275010461936),\n",
       " ('commitment', 0.084171616841909852),\n",
       " ('accent', 0.083019627331848478),\n",
       " ('presence', 0.079072233893631647),\n",
       " ('leadership', 0.077679940716463627),\n",
       " ('resemblance', 0.077615321785289376),\n",
       " ('argument', 0.074340423734557029),\n",
       " ('affinity', 0.073509433814468256),\n",
       " ('relationship', 0.070228093864681512),\n",
       " ('aroma', 0.069887116531079041),\n",
       " ('flair', 0.069007607442021834),\n",
       " ('tendency', 0.066949934093481892),\n",
       " ('flavour', 0.066858208676293052),\n",
       " ('correlation', 0.065217500779744031),\n",
       " ('bond', 0.06294155987580681),\n",
       " ('links', 0.062916633230173005)]"
      ]
     },
     "execution_count": 127,
     "metadata": {},
     "output_type": "execute_result"
    }
   ],
   "source": [
    "# wemb.closest(wemb.wvec('apple') + cemb.wvec('dobj_company'), 20)\n",
    "wemb.closest(cemb.wvec('amod_strong'), 20)"
   ]
  },
  {
   "cell_type": "code",
   "execution_count": 71,
   "metadata": {
    "collapsed": false
   },
   "outputs": [
    {
     "name": "stdout",
     "output_type": "stream",
     "text": [
      "compound_system\n",
      "compound_systems\n"
     ]
    }
   ],
   "source": [
    "search_word = 'compound_system'\n",
    "for context in cemb.vocab:\n",
    "    if search_word in context:\n",
    "        print(context)"
   ]
  },
  {
   "cell_type": "code",
   "execution_count": null,
   "metadata": {
    "collapsed": true
   },
   "outputs": [],
   "source": [
    "from sklearn.manifold import TSNE\n",
    "from collections import Counter\n",
    "\n",
    "words = ['buy', 'acquire', 'learn', 'purchase']\n",
    "\n",
    "iw = []\n",
    "ic = []\n",
    "for word in words:\n",
    "    iw.append(wemb.w2i[word])\n",
    "    contexts = cemb.closest(wemb.wvec(word), 1000)\n",
    "    \n",
    "    for context in contexts:\n",
    "        ic.append(context[0])\n",
    "    \n",
    "# print(iw)\n",
    "# print('ic :',ic)\n",
    "counter = Counter(ic)\n",
    "ic = [c for c in counter if counter[c] > 1]\n",
    "\n",
    "print('ic :',ic)\n",
    "\n",
    "wvecs = wemb.V[iw,:]\n",
    "# cvecs = cemb.V[ic,:]\n",
    "\n",
    "# print(wvecs.shape)\n",
    "\n",
    "tsne = TSNE(n_components=2, random_state=0)\n",
    "pc = tsne.fit_transform(wvecs) * 1e+2\n",
    "\n",
    "print(pc)"
   ]
  },
  {
   "cell_type": "code",
   "execution_count": 267,
   "metadata": {
    "collapsed": false
   },
   "outputs": [
    {
     "name": "stdout",
     "output_type": "stream",
     "text": [
      "(4, 600) (6, 600)\n"
     ]
    },
    {
     "ename": "TypeError",
     "evalue": "unsupported operand type(s) for *: 'TSNE' and 'float'",
     "traceback": [
      "\u001b[1;31m---------------------------------------------------------------------------\u001b[0m",
      "\u001b[1;31mTypeError\u001b[0m                                 Traceback (most recent call last)",
      "\u001b[1;32m<ipython-input-267-cb6c40a173b9>\u001b[0m in \u001b[0;36m<module>\u001b[1;34m()\u001b[0m\n\u001b[0;32m     18\u001b[0m \u001b[1;33m\u001b[0m\u001b[0m\n\u001b[0;32m     19\u001b[0m \u001b[0mtsne\u001b[0m \u001b[1;33m=\u001b[0m \u001b[0mTSNE\u001b[0m\u001b[1;33m(\u001b[0m\u001b[0mn_components\u001b[0m\u001b[1;33m=\u001b[0m\u001b[1;36m2\u001b[0m\u001b[1;33m)\u001b[0m\u001b[1;33m\u001b[0m\u001b[0m\n\u001b[1;32m---> 20\u001b[1;33m \u001b[0mdw\u001b[0m \u001b[1;33m=\u001b[0m \u001b[0mtsne\u001b[0m\u001b[1;33m.\u001b[0m\u001b[0mfit\u001b[0m\u001b[1;33m(\u001b[0m\u001b[0mwvecs\u001b[0m\u001b[1;33m)\u001b[0m\u001b[1;33m*\u001b[0m\u001b[1;36m1e+4\u001b[0m\u001b[1;33m\u001b[0m\u001b[0m\n\u001b[0m\u001b[0;32m     21\u001b[0m \u001b[1;31m# dw = dw / np.diag(np.dot(dw, dw.T)).reshape(dw.shape[0], 1) * np.ones((1, 2))\u001b[0m\u001b[1;33m\u001b[0m\u001b[1;33m\u001b[0m\u001b[0m\n\u001b[0;32m     22\u001b[0m \u001b[1;33m\u001b[0m\u001b[0m\n",
      "\u001b[1;31mTypeError\u001b[0m: unsupported operand type(s) for *: 'TSNE' and 'float'"
     ],
     "output_type": "error"
    }
   ],
   "source": [
    "from sklearn.manifold import TSNE\n",
    "from collections import Counter\n",
    "\n",
    "words = ['learn', 'acquire', 'buy', 'purchase']\n",
    "contexts = ['dobj_stock', 'dobj_company', 'dobj_skill', 'dobj_car', 'dobj_habit', 'dobj_language']\n",
    "\n",
    "iw = []\n",
    "for word in words:\n",
    "    iw.append(wemb.w2i[word])\n",
    "ic = []\n",
    "for context in contexts:\n",
    "    ic.append(cemb.w2i[context])\n",
    "    \n",
    "wvecs = wemb.V[iw,:]\n",
    "cvecs = cemb.V[ic,:]\n",
    "\n",
    "print(wvecs.shape, cvecs.shape)\n",
    "    \n",
    "tsne = TSNE(n_components=2)\n",
    "dw = tsne.fit(wvecs)*1e+4\n",
    "# dw = dw / np.diag(np.dot(dw, dw.T)).reshape(dw.shape[0], 1) * np.ones((1, 2))\n",
    "\n",
    "dc = tsne.fit(cvecs)*1e+4\n",
    "# dc = dc / np.diag(np.dot(dc, dc.T)).reshape(dc.shape[0], 1) * np.ones((1, 2))"
   ]
  },
  {
   "cell_type": "code",
   "execution_count": 268,
   "metadata": {
    "collapsed": true
   },
   "outputs": [
    {
     "data": {
      "text/plain": [
       "(-2.5, 2.5)"
      ]
     },
     "execution_count": 268,
     "metadata": {},
     "output_type": "execute_result"
    },
    {
     "data": {
      "image/png": "[encoded data removed]",
      "text/plain": [
       "<matplotlib.figure.Figure at 0x2b8f09828278>"
      ]
     },
     "metadata": {},
     "output_type": "display_data"
    }
   ],
   "source": [
    "import matplotlib.pyplot as plt\n",
    "\n",
    "%matplotlib inline\n",
    "\n",
    "plt.figure(figsize=(15,15))\n",
    "\n",
    "for i, key in enumerate(words):\n",
    "    plt.scatter(dw[i,0], dw[i,1], s=120, c='green', marker='o')\n",
    "    plt.annotate(key, (dw[i,0]*1.025, dw[i,1]), fontsize=15, \n",
    "                 verticalalignment='center', horizontalalignment='right', family='monospace')\n",
    "\n",
    "for i, key in enumerate(contexts):\n",
    "    plt.scatter(dc[i,0], dc[i,1], s=120, c='red', marker='x')\n",
    "    plt.annotate(key, (dc[i,0]*1.025, dc[i,1]), fontsize=15, \n",
    "                 verticalalignment='center', horizontalalignment='left', family='monospace')\n",
    "\n",
    "plt.axhline(0, color='k')\n",
    "plt.axvline(0, color='k')\n",
    "plt.xlim([-2.5, 2.5])\n",
    "plt.ylim([-2.5, 2.5])"
   ]
  },
  {
   "cell_type": "code",
   "execution_count": 64,
   "metadata": {
    "collapsed": false
   },
   "outputs": [
    {
     "name": "stdout",
     "output_type": "stream",
     "text": [
      "[('amod_double-glazed', 0.80908330382790938),\n",
      " ('conj_98', 0.69156656286460971),\n",
      " ('amod_beaded', 0.66193754412508843),\n",
      " ('conjI_desktops', 0.63889427555097145),\n",
      " ('conj_projector', 0.63462877900687864),\n",
      " ('conjI_fridge/freezer', 0.6289999698710611),\n",
      " ('compound_dropdown', 0.62864324654756132),\n",
      " ('amod_windows-based', 0.62360057193406826),\n",
      " ('conj_fireplaces', 0.61800112811356778),\n",
      " ('compoundI_prompt', 0.61648760753592702),\n",
      " ('amod_wide-angle', 0.61247845076746787),\n",
      " ('compoundI_codecs', 0.6115204467459161),\n",
      " ('conj_asp', 0.61110167963090545),\n",
      " ('conjI_scanners', 0.61065172539254453),\n",
      " ('nmodI_sticker', 0.61001924502867633),\n",
      " ('compound_beowulf', 0.60943950605057728),\n",
      " ('conj_televisions', 0.60849211971198802),\n",
      " ('appos_walls', 0.6071443033078423),\n",
      " ('compoundI_decoder', 0.60704360082952658),\n",
      " ('amod_replaceable', 0.60253894033451316)]\n"
     ]
    }
   ],
   "source": [
    "from pprint import pprint\n",
    "\n",
    "contexts = cemb.closest(wemb.wvec('windows'), 20)\n",
    "pprint(contexts)"
   ]
  },
  {
   "cell_type": "code",
   "execution_count": 35,
   "metadata": {
    "collapsed": false
   },
   "outputs": [
    {
     "name": "stdout",
     "output_type": "stream",
     "text": [
      "\\begin{tabular}{ll}\n",
      "\\hline\n",
      " nsubjI\\_company   & dobjI\\_eat   \\\\\n",
      "\\hline\n",
      " sony             & cheese      \\\\\n",
      " aol              & salad       \\\\\n",
      " microsoft        & pasta       \\\\\n",
      " ibm              & chocolate   \\\\\n",
      " intel            & chicken     \\\\\n",
      " google           & fruit       \\\\\n",
      " bt               & pizza       \\\\\n",
      " coddan           & soup        \\\\\n",
      " corel            & meat        \\\\\n",
      "\\hline\n",
      "\\end{tabular}\n"
     ]
    }
   ],
   "source": [
    "from tabulate import tabulate\n",
    "\n",
    "target = 'apple'\n",
    "contexts = ['nsubjI_company', 'dobjI_eat']\n",
    "\n",
    "table = []\n",
    "\n",
    "for context in contexts:\n",
    "    top_substitutes = wemb.top_scores(wemb.pcos(wemb.wvec(target)) * wemb.pcos(cemb.wvec(context)))    \n",
    "    column = [x[0] for x in top_substitutes if x[0] != target]\n",
    "    \n",
    "    if len(table) > 1:\n",
    "        table = [x for x in zip(table, column)]\n",
    "    else:\n",
    "        table = column\n",
    "\n",
    "print(tabulate(table, headers=contexts, tablefmt='latex'))"
   ]
  },
  {
   "cell_type": "code",
   "execution_count": 37,
   "metadata": {
    "collapsed": false
   },
   "outputs": [
    {
     "name": "stdout",
     "output_type": "stream",
     "text": [
      "\\begin{tabular}{ll}\n",
      "\\hline\n",
      " dobj\\_technique   & dobj\\_specialist   \\\\\n",
      "\\hline\n",
      " utilise          & consult           \\\\\n",
      " develop          & employing         \\\\\n",
      " devise           & appoint           \\\\\n",
      " adopt            & nominate          \\\\\n",
      " evaluate         & seeking           \\\\\n",
      " using            & instruct          \\\\\n",
      " exploit          & contacting        \\\\\n",
      " deploy           & requesting        \\\\\n",
      " implement        & recruit           \\\\\n",
      "\\hline\n",
      "\\end{tabular}\n"
     ]
    }
   ],
   "source": [
    "from tabulate import tabulate\n",
    "\n",
    "target = 'employ'\n",
    "contexts = ['dobj_technique', 'dobj_specialist']\n",
    "\n",
    "table = []\n",
    "\n",
    "for context in contexts:\n",
    "    top_substitutes = wemb.top_scores(wemb.pcos(wemb.wvec(target)) * wemb.pcos(cemb.wvec(context)))    \n",
    "    column = [x[0] for x in top_substitutes if x[0] != target]\n",
    "    \n",
    "    if len(table) > 1:\n",
    "        table = [x for x in zip(table, column)]\n",
    "    else:\n",
    "        table = column\n",
    "\n",
    "print(tabulate(table, headers=contexts, tablefmt='latex'))"
   ]
  },
  {
   "cell_type": "code",
   "execution_count": 62,
   "metadata": {
    "collapsed": false
   },
   "outputs": [
    {
     "name": "stdout",
     "output_type": "stream",
     "text": [
      "\\begin{tabular}{ll}\n",
      "\\hline\n",
      " dobjI\\_board   & dobj\\_people   \\\\\n",
      "\\hline\n",
      " bus           & recruit       \\\\\n",
      " ferry         & greet         \\\\\n",
      " trains        & impress       \\\\\n",
      " boat          & motivate      \\\\\n",
      " taxi          & entice        \\\\\n",
      " coach         & entertain     \\\\\n",
      " ship          & employ        \\\\\n",
      " flight        & educate       \\\\\n",
      " buses         & tempt         \\\\\n",
      "\\hline\n",
      "\\end{tabular}\n"
     ]
    }
   ],
   "source": [
    "from tabulate import tabulate\n",
    "\n",
    "target = 'train'\n",
    "contexts = ['dobjI_board', 'dobj_people']\n",
    "\n",
    "table = []\n",
    "\n",
    "for context in contexts:\n",
    "    top_substitutes = wemb.top_scores(wemb.pcos(wemb.wvec(target)) * wemb.pcos(cemb.wvec(context)))    \n",
    "    column = [x[0] for x in top_substitutes if x[0] != target]\n",
    "    \n",
    "    if len(table) > 1:\n",
    "        table = [x for x in zip(table, column)]\n",
    "    else:\n",
    "        table = column\n",
    "\n",
    "print(tabulate(table, headers=contexts, tablefmt='latex'))"
   ]
  },
  {
   "cell_type": "code",
   "execution_count": 78,
   "metadata": {
    "collapsed": false
   },
   "outputs": [
    {
     "name": "stdout",
     "output_type": "stream",
     "text": [
      "\\begin{tabular}{ll}\n",
      "\\hline\n",
      " compound\\_desktop   & nmod\\_view   \\\\\n",
      "\\hline\n",
      " xp                 & window      \\\\\n",
      " desktop            & bedroom     \\\\\n",
      " linux              & point       \\\\\n",
      " unix               & doors       \\\\\n",
      " server             & balcony     \\\\\n",
      " pcs                & points      \\\\\n",
      " pc                 & door        \\\\\n",
      " servers            & image       \\\\\n",
      " explorer           & lounge      \\\\\n",
      "\\hline\n",
      "\\end{tabular}\n"
     ]
    }
   ],
   "source": [
    "from tabulate import tabulate\n",
    "\n",
    "target = 'windows'\n",
    "contexts = ['compound_desktop', 'nmod_view']\n",
    "\n",
    "table = []\n",
    "\n",
    "for context in contexts:\n",
    "    top_substitutes = wemb.top_scores(wemb.pcos(wemb.wvec(target)) * wemb.pcos(cemb.wvec(context)))    \n",
    "    column = [x[0] for x in top_substitutes if x[0] != target]\n",
    "    \n",
    "    if len(table) > 1:\n",
    "        table = [x for x in zip(table, column)]\n",
    "    else:\n",
    "        table = column\n",
    "\n",
    "print(tabulate(table, headers=contexts, tablefmt='latex'))"
   ]
  }
 ],
 "metadata": {
  "kernelspec": {
   "display_name": "Environment (anaconda3-2.5.0)",
   "language": "",
   "name": "anaconda3-2.5.0"
  },
  "language_info": {
   "codemirror_mode": {
    "name": "ipython",
    "version": 3.0
   },
   "file_extension": ".py",
   "mimetype": "text/x-python",
   "name": "python",
   "nbconvert_exporter": "python",
   "pygments_lexer": "ipython3",
   "version": "3.5.1"
  }
 },
 "nbformat": 4,
 "nbformat_minor": 0
}